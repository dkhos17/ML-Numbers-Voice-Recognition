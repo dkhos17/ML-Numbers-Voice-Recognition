{
 "cells": [
  {
   "cell_type": "code",
   "execution_count": 1,
   "metadata": {},
   "outputs": [
    {
     "name": "stderr",
     "output_type": "stream",
     "text": [
      "C:\\Users\\alexp\\Anaconda3\\lib\\site-packages\\ipykernel_launcher.py:6: TqdmExperimentalWarning: Using `tqdm.autonotebook.tqdm` in notebook mode. Use `tqdm.tqdm` instead to force console mode (e.g. in jupyter console)\n",
      "  \n"
     ]
    }
   ],
   "source": [
    "import pickle\n",
    "import os\n",
    "import numpy as np\n",
    "import pandas as pd\n",
    "from pydub import AudioSegment\n",
    "from tqdm.autonotebook import tqdm\n",
    "import IPython.display as ipd\n",
    "import librosa\n",
    "import librosa.display\n",
    "import glob, scipy, random\n",
    "import noisereduce as nr\n",
    "\n",
    "with open('model.sav', 'rb') as model:\n",
    "    layers = pickle.load(model)\n",
    "    weights = pickle.load(model)\n",
    "    bias = pickle.load(model)\n",
    "    longest = pickle.load(model)"
   ]
  },
  {
   "cell_type": "code",
   "execution_count": 2,
   "metadata": {},
   "outputs": [],
   "source": [
    "class NeuralNetwork:\n",
    "    \n",
    "    def __init__(self, layers):\n",
    "        self.layers = layers\n",
    "        self.weights = [None] * len(self.layers)\n",
    "        self.bias = [None] * len(self.layers)\n",
    "    \n",
    "    def initialize(self, weights, bias):\n",
    "        self.weights = weights\n",
    "        self.bias = bias\n",
    "    \n",
    "    def sigmoid(self, z):\n",
    "        return 1 / (1 + np.exp(-z))\n",
    " \n",
    "    def softmax(self, z):\n",
    "        exp = np.exp(z - np.max(z))\n",
    "        return exp / exp.sum(axis=0, keepdims=True)\n",
    "\n",
    "    def forward(self, X):\n",
    "        a = X.T\n",
    "        for i in range(1, len(self.layers)):\n",
    "            z = self.weights[i] @ a + self.bias[i]\n",
    "            if i == len(self.layers) - 1:\n",
    "                a = self.softmax(z)\n",
    "            else:\n",
    "                a = self.sigmoid(z)\n",
    "        return a\n",
    " \n",
    "    def predict_write(self, X, names):\n",
    "        pred = self.forward(X)\n",
    "        answer = np.empty([X.shape[0], 6], dtype=object)\n",
    "        answer[:,0] = answer[:,0].astype(str)\n",
    "        answer[:,0] = names\n",
    "        for i in range(5):\n",
    "            answer[:,i + 1] = pred[i]\n",
    "        \n",
    "        df = pd.DataFrame(answer, columns=['name', '1', '2', '3', '4', '5'])\n",
    "\n",
    "        df.to_csv(os.getcwd().replace(\"\\\\\", \"/\") +'/8.csv', index=False)\n",
    "        \n",
    "            "
   ]
  },
  {
   "cell_type": "code",
   "execution_count": 3,
   "metadata": {},
   "outputs": [],
   "source": [
    "nn = NeuralNetwork(layers)\n",
    "nn.initialize(weights, bias)"
   ]
  },
  {
   "cell_type": "code",
   "execution_count": 4,
   "metadata": {},
   "outputs": [
    {
     "name": "stderr",
     "output_type": "stream",
     "text": [
      "C:\\Users\\alexp\\Anaconda3\\lib\\site-packages\\librosa\\core\\audio.py:161: UserWarning: PySoundFile failed. Trying audioread instead.\n",
      "  warnings.warn('PySoundFile failed. Trying audioread instead.')\n",
      "C:\\Users\\alexp\\Anaconda3\\lib\\site-packages\\ipykernel_launcher.py:13: RuntimeWarning: overflow encountered in exp\n",
      "  del sys.path[0]\n"
     ]
    }
   ],
   "source": [
    "path = os.getcwd().replace(\"\\\\\", \"/\")\n",
    "names = []\n",
    "wavs = []\n",
    "\n",
    "for audio, name in [(path + \"/\" + fname, fname) for fname in os.listdir(path)]:\n",
    "    if name[-4:] != '.wav': continue\n",
    "    names.append(name)\n",
    "    data, sampling_rate = librosa.load(audio, sr = 16000)\n",
    "    data = nr.reduce_noise(audio_clip=data, noise_clip=data)\n",
    "    hpss = librosa.effects.hpss(data)\n",
    "    data, ind = librosa.effects.trim(hpss[1], top_db=40)\n",
    "    if longest >= len(data):\n",
    "        data = list(data)\n",
    "        data = [0.0] * int((longest - len(data))/2) + data + [0.0] * (longest - len(data) - int((longest - len(data))/2))\n",
    "        data = np.array(data)\n",
    "    else:\n",
    "        speed_change = len(data) / float(longest)\n",
    "        data = librosa.effects.time_stretch(data, speed_change)\n",
    "    wavs.append(librosa.feature.mfcc(data, sr=16000).flatten())\n",
    "try:\n",
    "    X = np.zeros((len(wavs), len(wavs[0])))\n",
    "    for i, dat in enumerate(wavs):\n",
    "        X[i] = np.matrix(dat)\n",
    "    X = X.astype(np.float64)\n",
    "    nn.predict_write(X, names)\n",
    "except:\n",
    "    print(\"No test audiofiles in directory!!!\")"
   ]
  }
 ],
 "metadata": {
  "file_extension": ".py",
  "kernelspec": {
   "display_name": "Python 3",
   "language": "python",
   "name": "python3"
  },
  "language_info": {
   "codemirror_mode": {
    "name": "ipython",
    "version": 3
   },
   "file_extension": ".py",
   "mimetype": "text/x-python",
   "name": "python",
   "nbconvert_exporter": "python",
   "pygments_lexer": "ipython3",
   "version": "3.7.6"
  },
  "mimetype": "text/x-python",
  "name": "python",
  "npconvert_exporter": "python",
  "pygments_lexer": "ipython3",
  "version": 3
 },
 "nbformat": 4,
 "nbformat_minor": 2
}
